{
 "cells": [
  {
   "cell_type": "markdown",
   "id": "8f4d9c07-6db9-4350-b42e-d6628fbcbcdc",
   "metadata": {},
   "source": [
    "# Introduction of Base Code"
   ]
  },
  {
   "cell_type": "markdown",
   "id": "deac21d7-3f97-4da2-b23c-c1a526a6c0aa",
   "metadata": {},
   "source": [
    "### Sample Data "
   ]
  },
  {
   "cell_type": "markdown",
   "id": "b4f10dcd-a1c8-4661-bb28-8cc35e0cf8af",
   "metadata": {},
   "source": [
    "- KLUE Benchmark 데이터를 활용함.\n",
    "- https://klue-benchmark.com/tasks"
   ]
  },
  {
   "cell_type": "markdown",
   "id": "5a1054dd-c8f3-40bb-95c9-f94327b3df53",
   "metadata": {},
   "source": [
    "### datamodule pipeline\n",
    "- lightning transformers를 커스텀하여 데이터 모듈 파이프라인을 정의함."
   ]
  },
  {
   "cell_type": "markdown",
   "id": "fd82b4db-340d-414c-b62b-aeaa55933b85",
   "metadata": {},
   "source": [
    "### KLUE-TC example"
   ]
  },
  {
   "cell_type": "markdown",
   "id": "70ec1bbe-ace4-40ad-bfc3-2f235e83b885",
   "metadata": {},
   "source": [
    "- klue-tc 데이터 다운로드\n",
    "- 압축해제\n",
    "- csv로 파일 변환\n",
    "```bash\n",
    "wget --no-check-certificate https://klue-benchmark.com.s3.amazonaws.com/app/Competitions/000066/data/ynat-v1.tar.gz -P data\n",
    "tar -zxvf data/ynat-v1.tar.gz -C data\n",
    "rm data/ynat-v1.tar.gz\n",
    "python script/build_dataset_YNAT.py\n",
    "```"
   ]
  },
  {
   "cell_type": "markdown",
   "id": "da4d3a6a-9ee8-4451-bedd-d7467d6a2f48",
   "metadata": {},
   "source": [
    "- configure data_args"
   ]
  },
  {
   "cell_type": "code",
   "execution_count": 12,
   "id": "a351522d-f640-492d-9f5f-e9fc18320171",
   "metadata": {},
   "outputs": [],
   "source": [
    "from omegaconf import OmegaConf\n",
    "from lightning_transformers.core.nlp import HFTransformerDataConfig\n",
    "\n",
    "# load data_args configure\n",
    "args = OmegaConf.load('dm_config/ynat_base.yaml')\n",
    "data_args = HFTransformerDataConfig(batch_size=args.batch_size)\n",
    "data_args = OmegaConf.create(vars(data_args))\n",
    "data_args = OmegaConf.create(data_args)\n",
    "data_args = OmegaConf.merge(data_args, args)"
   ]
  },
  {
   "cell_type": "markdown",
   "id": "0c91b75e-0057-4128-b9f3-f8f12f052d8f",
   "metadata": {},
   "source": [
    "- load tokenizer"
   ]
  },
  {
   "cell_type": "code",
   "execution_count": 13,
   "id": "ed090b08-ea10-4610-b7e4-c7d8d12ac096",
   "metadata": {},
   "outputs": [
    {
     "data": {
      "application/vnd.jupyter.widget-view+json": {
       "model_id": "9a71628d67df46989fc9c753b8efd1a0",
       "version_major": 2,
       "version_minor": 0
      },
      "text/plain": [
       "HBox(children=(FloatProgress(value=0.0, description='Downloading', max=337.0, style=ProgressStyle(description_…"
      ]
     },
     "metadata": {},
     "output_type": "display_data"
    },
    {
     "name": "stdout",
     "output_type": "stream",
     "text": [
      "\n"
     ]
    },
    {
     "data": {
      "application/vnd.jupyter.widget-view+json": {
       "model_id": "520dcaa4c038465a945019199812c4e6",
       "version_major": 2,
       "version_minor": 0
      },
      "text/plain": [
       "HBox(children=(FloatProgress(value=0.0, description='Downloading', max=545.0, style=ProgressStyle(description_…"
      ]
     },
     "metadata": {},
     "output_type": "display_data"
    },
    {
     "name": "stdout",
     "output_type": "stream",
     "text": [
      "\n"
     ]
    },
    {
     "data": {
      "application/vnd.jupyter.widget-view+json": {
       "model_id": "e18d6f0732284b84a95f410b00d089d6",
       "version_major": 2,
       "version_minor": 0
      },
      "text/plain": [
       "HBox(children=(FloatProgress(value=0.0, description='Downloading', max=248477.0, style=ProgressStyle(descripti…"
      ]
     },
     "metadata": {},
     "output_type": "display_data"
    },
    {
     "name": "stdout",
     "output_type": "stream",
     "text": [
      "\n"
     ]
    },
    {
     "data": {
      "application/vnd.jupyter.widget-view+json": {
       "model_id": "84f1523483784082aa7880462676927f",
       "version_major": 2,
       "version_minor": 0
      },
      "text/plain": [
       "HBox(children=(FloatProgress(value=0.0, description='Downloading', max=173.0, style=ProgressStyle(description_…"
      ]
     },
     "metadata": {},
     "output_type": "display_data"
    },
    {
     "name": "stdout",
     "output_type": "stream",
     "text": [
      "\n"
     ]
    }
   ],
   "source": [
    "from transformers import AutoTokenizer\n",
    "tokenizer = AutoTokenizer.from_pretrained('klue/roberta-small')"
   ]
  },
  {
   "cell_type": "markdown",
   "id": "2973b480-3709-40ef-b4b6-343db2fb3f4a",
   "metadata": {},
   "source": [
    "- define datamodule pipeline"
   ]
  },
  {
   "cell_type": "code",
   "execution_count": 14,
   "id": "1f8cd084-666a-4f78-9caf-dd57f04b0705",
   "metadata": {},
   "outputs": [],
   "source": [
    "from src.datamodules.task.nlp import TextClassificationDataModule\n",
    "\n",
    "dm = TextClassificationDataModule(tokenizer, data_args)"
   ]
  },
  {
   "cell_type": "code",
   "execution_count": 15,
   "id": "a0c88dc2-39ef-4295-86e2-cfcd65718071",
   "metadata": {},
   "outputs": [
    {
     "name": "stderr",
     "output_type": "stream",
     "text": [
      "Using custom data configuration default-483d06c09187902b\n"
     ]
    },
    {
     "name": "stdout",
     "output_type": "stream",
     "text": [
      "Downloading and preparing dataset csv/default (download: Unknown size, generated: Unknown size, post-processed: Unknown size, total: Unknown size) to /root/.cache/huggingface/datasets/csv/default-483d06c09187902b/0.0.0/2dc6629a9ff6b5697d82c25b73731dd440507a69cbce8b425db50b751e8fcfd0...\n"
     ]
    },
    {
     "data": {
      "application/vnd.jupyter.widget-view+json": {
       "model_id": "",
       "version_major": 2,
       "version_minor": 0
      },
      "text/plain": [
       "HBox(children=(FloatProgress(value=1.0, bar_style='info', layout=Layout(width='20px'), max=1.0), HTML(value=''…"
      ]
     },
     "metadata": {},
     "output_type": "display_data"
    },
    {
     "data": {
      "application/vnd.jupyter.widget-view+json": {
       "model_id": "",
       "version_major": 2,
       "version_minor": 0
      },
      "text/plain": [
       "HBox(children=(FloatProgress(value=1.0, bar_style='info', layout=Layout(width='20px'), max=1.0), HTML(value=''…"
      ]
     },
     "metadata": {},
     "output_type": "display_data"
    },
    {
     "name": "stdout",
     "output_type": "stream",
     "text": [
      "Dataset csv downloaded and prepared to /root/.cache/huggingface/datasets/csv/default-483d06c09187902b/0.0.0/2dc6629a9ff6b5697d82c25b73731dd440507a69cbce8b425db50b751e8fcfd0. Subsequent calls will reuse this data.\n"
     ]
    },
    {
     "data": {
      "application/vnd.jupyter.widget-view+json": {
       "model_id": "a3c70f1dd6354e23a2eb4eea9b61d3ab",
       "version_major": 2,
       "version_minor": 0
      },
      "text/plain": [
       "HBox(children=(FloatProgress(value=0.0, max=46.0), HTML(value='')))"
      ]
     },
     "metadata": {},
     "output_type": "display_data"
    },
    {
     "name": "stdout",
     "output_type": "stream",
     "text": [
      "\n"
     ]
    },
    {
     "data": {
      "application/vnd.jupyter.widget-view+json": {
       "model_id": "2a18512514b34b49afd819693d57dd0d",
       "version_major": 2,
       "version_minor": 0
      },
      "text/plain": [
       "HBox(children=(FloatProgress(value=0.0, max=10.0), HTML(value='')))"
      ]
     },
     "metadata": {},
     "output_type": "display_data"
    },
    {
     "name": "stdout",
     "output_type": "stream",
     "text": [
      "\n"
     ]
    }
   ],
   "source": [
    "# setdup datamodule\n",
    "dm.setup()"
   ]
  },
  {
   "cell_type": "markdown",
   "id": "f4960673-f3a0-4627-ad38-52d71d419a53",
   "metadata": {},
   "source": [
    "- view the dataset"
   ]
  },
  {
   "cell_type": "code",
   "execution_count": 16,
   "id": "64bed804-456f-435e-ac30-93728ce2d3a9",
   "metadata": {},
   "outputs": [
    {
     "data": {
      "text/plain": [
       "DatasetDict({\n",
       "    train: Dataset({\n",
       "        features: ['Id', 'attention_mask', 'input_ids', 'label', 'labels', 'text', 'token_type_ids'],\n",
       "        num_rows: 45678\n",
       "    })\n",
       "    validation: Dataset({\n",
       "        features: ['Id', 'attention_mask', 'input_ids', 'label', 'labels', 'text', 'token_type_ids'],\n",
       "        num_rows: 9107\n",
       "    })\n",
       "})"
      ]
     },
     "execution_count": 16,
     "metadata": {},
     "output_type": "execute_result"
    }
   ],
   "source": [
    "dm.ds"
   ]
  },
  {
   "cell_type": "markdown",
   "id": "1c3852fb-2673-4d5a-89c1-d3c2585d0e58",
   "metadata": {},
   "source": [
    "- dataloader"
   ]
  },
  {
   "cell_type": "code",
   "execution_count": 21,
   "id": "c94c9c82-5bb4-4d07-9f1a-dc575128dc33",
   "metadata": {},
   "outputs": [
    {
     "name": "stdout",
     "output_type": "stream",
     "text": [
      "{'attention_mask': tensor([[1, 1, 1, 1, 1, 1, 1, 1, 1, 1, 1, 1, 0, 0, 0, 0, 0, 0, 0, 0, 0],\n",
      "        [1, 1, 1, 1, 1, 1, 1, 1, 1, 1, 1, 1, 0, 0, 0, 0, 0, 0, 0, 0, 0],\n",
      "        [1, 1, 1, 1, 1, 1, 1, 1, 1, 1, 1, 1, 1, 1, 1, 1, 1, 0, 0, 0, 0],\n",
      "        [1, 1, 1, 1, 1, 1, 1, 1, 1, 1, 1, 1, 1, 1, 1, 1, 0, 0, 0, 0, 0],\n",
      "        [1, 1, 1, 1, 1, 1, 1, 1, 1, 1, 1, 1, 1, 1, 1, 1, 1, 1, 0, 0, 0],\n",
      "        [1, 1, 1, 1, 1, 1, 1, 1, 1, 1, 1, 1, 1, 0, 0, 0, 0, 0, 0, 0, 0],\n",
      "        [1, 1, 1, 1, 1, 1, 1, 1, 1, 1, 1, 1, 1, 1, 0, 0, 0, 0, 0, 0, 0],\n",
      "        [1, 1, 1, 1, 1, 0, 0, 0, 0, 0, 0, 0, 0, 0, 0, 0, 0, 0, 0, 0, 0],\n",
      "        [1, 1, 1, 1, 1, 1, 1, 1, 1, 1, 1, 1, 1, 1, 1, 1, 1, 1, 1, 1, 1],\n",
      "        [1, 1, 1, 1, 1, 1, 1, 1, 1, 1, 1, 1, 1, 1, 1, 1, 0, 0, 0, 0, 0],\n",
      "        [1, 1, 1, 1, 1, 1, 1, 1, 1, 1, 1, 1, 1, 1, 1, 0, 0, 0, 0, 0, 0],\n",
      "        [1, 1, 1, 1, 1, 1, 1, 1, 1, 1, 1, 1, 1, 1, 1, 1, 1, 0, 0, 0, 0],\n",
      "        [1, 1, 1, 1, 1, 1, 1, 1, 1, 1, 1, 0, 0, 0, 0, 0, 0, 0, 0, 0, 0],\n",
      "        [1, 1, 1, 1, 1, 1, 1, 1, 1, 1, 1, 1, 1, 0, 0, 0, 0, 0, 0, 0, 0],\n",
      "        [1, 1, 1, 1, 1, 1, 1, 1, 1, 1, 1, 1, 1, 1, 1, 0, 0, 0, 0, 0, 0],\n",
      "        [1, 1, 1, 1, 1, 1, 1, 1, 1, 1, 1, 1, 1, 1, 1, 1, 1, 1, 1, 1, 1],\n",
      "        [1, 1, 1, 1, 1, 1, 1, 1, 1, 1, 1, 0, 0, 0, 0, 0, 0, 0, 0, 0, 0],\n",
      "        [1, 1, 1, 1, 1, 1, 1, 1, 1, 1, 1, 1, 1, 1, 1, 1, 0, 0, 0, 0, 0],\n",
      "        [1, 1, 1, 1, 1, 1, 1, 1, 1, 1, 1, 1, 0, 0, 0, 0, 0, 0, 0, 0, 0],\n",
      "        [1, 1, 1, 1, 1, 1, 1, 1, 1, 1, 1, 1, 1, 1, 1, 1, 1, 1, 1, 1, 1],\n",
      "        [1, 1, 1, 1, 1, 1, 1, 1, 1, 1, 1, 1, 1, 1, 1, 0, 0, 0, 0, 0, 0],\n",
      "        [1, 1, 1, 1, 1, 1, 1, 1, 1, 1, 1, 1, 0, 0, 0, 0, 0, 0, 0, 0, 0],\n",
      "        [1, 1, 1, 1, 1, 1, 1, 1, 1, 1, 1, 1, 1, 0, 0, 0, 0, 0, 0, 0, 0],\n",
      "        [1, 1, 1, 1, 1, 1, 1, 1, 1, 1, 1, 1, 1, 1, 1, 1, 0, 0, 0, 0, 0],\n",
      "        [1, 1, 1, 1, 1, 1, 1, 1, 1, 1, 1, 1, 1, 1, 1, 1, 1, 1, 0, 0, 0],\n",
      "        [1, 1, 1, 1, 1, 1, 1, 1, 1, 1, 1, 1, 1, 1, 0, 0, 0, 0, 0, 0, 0],\n",
      "        [1, 1, 1, 1, 1, 1, 1, 1, 1, 1, 1, 1, 1, 1, 1, 1, 0, 0, 0, 0, 0],\n",
      "        [1, 1, 1, 1, 1, 1, 1, 1, 1, 1, 1, 1, 1, 1, 1, 1, 1, 0, 0, 0, 0],\n",
      "        [1, 1, 1, 1, 1, 1, 1, 1, 1, 1, 1, 1, 1, 1, 1, 0, 0, 0, 0, 0, 0],\n",
      "        [1, 1, 1, 1, 1, 1, 1, 1, 1, 1, 1, 1, 1, 1, 1, 1, 1, 0, 0, 0, 0],\n",
      "        [1, 1, 1, 1, 1, 1, 1, 1, 1, 0, 0, 0, 0, 0, 0, 0, 0, 0, 0, 0, 0],\n",
      "        [1, 1, 1, 1, 1, 1, 1, 1, 1, 1, 1, 1, 1, 1, 1, 1, 1, 0, 0, 0, 0]]), 'input_ids': tensor([[    0, 10637,  8474,    22,  2210,  2299,  2118, 28940,  3691,  4101,\n",
      "          3792,     2,     1,     1,     1,     1,     1,     1,     1,     1,\n",
      "             1],\n",
      "        [    0, 24905,  1042,  4795, 19982,  2129,   121,  6904, 16311,     3,\n",
      "         14392,     2,     1,     1,     1,     1,     1,     1,     1,     1,\n",
      "             1],\n",
      "        [    0,  4172,  3797,  3728,  2107,  2134,  3777,   904,  6022,  2332,\n",
      "          2113,  2259,  4523,  1380,  2259,  2062,     2,     1,     1,     1,\n",
      "             1],\n",
      "        [    0, 12417,  2155,  7840,   604,  2859,  3873, 11554,  2522,  1539,\n",
      "          2073,  8446,  6626, 18818,   575,     2,     1,     1,     1,     1,\n",
      "             1],\n",
      "        [    0, 13203,  2179,  2366,  4197,  7551,  2096,  8542,  2088,  2353,\n",
      "           886,  1244,  4393,  2027,    22,  2207,  8189,     2,     1,     1,\n",
      "             1],\n",
      "        [    0,  8296,  2112, 28814,  1889,  5971,   121,  8765,  2822,  5119,\n",
      "         10841,  7912,     2,     1,     1,     1,     1,     1,     1,     1,\n",
      "             1],\n",
      "        [    0,  5339,  8689,  2165,  2063,  3879,  2280, 27626, 14033, 11890,\n",
      "          2280, 17931, 27854,     2,     1,     1,     1,     1,     1,     1,\n",
      "             1],\n",
      "        [    0,  8315,  1283, 21383,     2,     1,     1,     1,     1,     1,\n",
      "             1,     1,     1,     1,     1,     1,     1,     1,     1,     1,\n",
      "             1],\n",
      "        [    0,  1457,  2128,  2901,     3, 14413,  2252,  2170, 22890, 21131,\n",
      "          8159,   121,  4866,  2063,  2550,  2200, 10121, 27854,  2302,  2178,\n",
      "             2],\n",
      "        [    0,  5713,  3674, 30328,  4115,   121,    22,  2377,  2015,  9476,\n",
      "            26,    18,  6980,     9,  3877,     2,     1,     1,     1,     1,\n",
      "             1],\n",
      "        [    0,  5001,  2112,  3629,  2165, 12146, 12286,   121, 12146,  2048,\n",
      "          2063,  5409,  4557,  6256,     2,     1,     1,     1,     1,     1,\n",
      "             1],\n",
      "        [    0, 25373, 16314,   821, 13029, 10536,  2205,  2318,  5236,   121,\n",
      "          9425,  2259,  2318,  1560,  2062, 27854,     2,     1,     1,     1,\n",
      "             1],\n",
      "        [    0,   466, 20790,  8523,  2425, 15533,  5711, 13773,  6857,  3835,\n",
      "             2,     1,     1,     1,     1,     1,     1,     1,     1,     1,\n",
      "             1],\n",
      "        [    0, 28704, 19433,  2256,   121, 13722,   547,   647,  9064,  3840,\n",
      "          2170, 20059,     2,     1,     1,     1,     1,     1,     1,     1,\n",
      "             1],\n",
      "        [    0,  4073,  2124,  2408,    40,  2083,   373,  3698,  5826,  1943,\n",
      "          4711,  8812,  4132,  7807,     2,     1,     1,     1,     1,     1,\n",
      "             1],\n",
      "        [    0,  4326,  2309,  2964,    21,  2377,  2015,  4308,  2427,    21,\n",
      "          2337,  9871,  2248,  2028,  2252,   121,  4852,  4215,  4520, 27854,\n",
      "             2],\n",
      "        [    0, 11278,  3648, 13383,  2062,  2151,  1002, 21110,  5899,  4110,\n",
      "             2,     1,     1,     1,     1,     1,     1,     1,     1,     1,\n",
      "             1],\n",
      "        [    0, 19818,  2090,  7825,  2112,  9952, 14733,  2056,  2121,  7925,\n",
      "          4256,  2470,  5644,  3810,  7352,     2,     1,     1,     1,     1,\n",
      "             1],\n",
      "        [    0, 14539, 30757,  1283, 13516,  2112,  3740,  2028,  3976,  3703,\n",
      "          4415,     2,     1,     1,     1,     1,     1,     1,     1,     1,\n",
      "             1],\n",
      "        [    0,  3708,  4135,  3144,  2335,  2170,  4426,  2332,  2165,  2047,\n",
      "          4301,   121,  4172,  2170,  4376,  2327,  2132,  9476,    22,  2393,\n",
      "             2],\n",
      "        [    0, 13871,  7037,  2116,  2113,  7877, 19521,  3666, 13129,  1537,\n",
      "          7031,  6170,  2170, 19386,     2,     1,     1,     1,     1,     1,\n",
      "             1],\n",
      "        [    0,   378,  5004,  6233,  8116, 10009,  2250,  2270,  1122,  2259,\n",
      "          2062,     2,     1,     1,     1,     1,     1,     1,     1,     1,\n",
      "             1],\n",
      "        [    0,  1107,  6369,  9505,  2067,  2605, 20638,  8186,  3739,  2112,\n",
      "          2119,  4257,     2,     1,     1,     1,     1,     1,     1,     1,\n",
      "             1],\n",
      "        [    0,  3739,  9085,  9939,  2377,  2275, 19179,  9939,  1712,  2264,\n",
      "          2165,  2255, 12836, 18577, 12960,     2,     1,     1,     1,     1,\n",
      "             1],\n",
      "        [    0,    25,  2341,  9904,  2267,  4099,  2373,  2232,  6190,   121,\n",
      "         25148,  2195,  2063,  5420,  4213,  7719,  6358,     2,     1,     1,\n",
      "             1],\n",
      "        [    0, 19704, 21608,  5086,  7285,  4218,  2470,  3753,  2079,  1644,\n",
      "          4062,  2079,  3782,     2,     1,     1,     1,     1,     1,     1,\n",
      "             1],\n",
      "        [    0, 19013, 13104,  2094,  2170,  5401, 17138,  2063, 23144,   555,\n",
      "          2073,  1507,  1415, 16818,  3645,     2,     1,     1,     1,     1,\n",
      "             1],\n",
      "        [    0,  4037,  2144,  3932,  2019,  5410,  2439, 21149,  7604,  8791,\n",
      "          2643,    22,  2019,  2200,  4185,  4538,     2,     1,     1,     1,\n",
      "             1],\n",
      "        [    0, 11251,   831,  5639,  2613,   554,  2088,  9843,  2318,  3645,\n",
      "           121, 26119,  2115,  7309,     2,     1,     1,     1,     1,     1,\n",
      "             1],\n",
      "        [    0,  4387,  2659,  2189,  2987,  2283,  2221,  2067, 30397,   100,\n",
      "          4323, 16270,  4196,  4148,  2340,  2589,     2,     1,     1,     1,\n",
      "             1],\n",
      "        [    0,  4595,  4082,    24,  2067,  6727,  3802,  2178,     2,     1,\n",
      "             1,     1,     1,     1,     1,     1,     1,     1,     1,     1,\n",
      "             1],\n",
      "        [    0,  3646,  2031,   378,  4606,  3868,  3992,  2178,  2062,  4471,\n",
      "          1176,  2698,  2477, 11604,   831,  3635,     2,     1,     1,     1,\n",
      "             1]]), 'labels': tensor([3, 3, 2, 2, 3, 0, 5, 3, 4, 4, 4, 6, 4, 5, 6, 1, 6, 2, 4, 4, 4, 4, 4, 0,\n",
      "        0, 3, 2, 2, 5, 2, 3, 1]), 'token_type_ids': tensor([[0, 0, 0, 0, 0, 0, 0, 0, 0, 0, 0, 0, 0, 0, 0, 0, 0, 0, 0, 0, 0],\n",
      "        [0, 0, 0, 0, 0, 0, 0, 0, 0, 0, 0, 0, 0, 0, 0, 0, 0, 0, 0, 0, 0],\n",
      "        [0, 0, 0, 0, 0, 0, 0, 0, 0, 0, 0, 0, 0, 0, 0, 0, 0, 0, 0, 0, 0],\n",
      "        [0, 0, 0, 0, 0, 0, 0, 0, 0, 0, 0, 0, 0, 0, 0, 0, 0, 0, 0, 0, 0],\n",
      "        [0, 0, 0, 0, 0, 0, 0, 0, 0, 0, 0, 0, 0, 0, 0, 0, 0, 0, 0, 0, 0],\n",
      "        [0, 0, 0, 0, 0, 0, 0, 0, 0, 0, 0, 0, 0, 0, 0, 0, 0, 0, 0, 0, 0],\n",
      "        [0, 0, 0, 0, 0, 0, 0, 0, 0, 0, 0, 0, 0, 0, 0, 0, 0, 0, 0, 0, 0],\n",
      "        [0, 0, 0, 0, 0, 0, 0, 0, 0, 0, 0, 0, 0, 0, 0, 0, 0, 0, 0, 0, 0],\n",
      "        [0, 0, 0, 0, 0, 0, 0, 0, 0, 0, 0, 0, 0, 0, 0, 0, 0, 0, 0, 0, 0],\n",
      "        [0, 0, 0, 0, 0, 0, 0, 0, 0, 0, 0, 0, 0, 0, 0, 0, 0, 0, 0, 0, 0],\n",
      "        [0, 0, 0, 0, 0, 0, 0, 0, 0, 0, 0, 0, 0, 0, 0, 0, 0, 0, 0, 0, 0],\n",
      "        [0, 0, 0, 0, 0, 0, 0, 0, 0, 0, 0, 0, 0, 0, 0, 0, 0, 0, 0, 0, 0],\n",
      "        [0, 0, 0, 0, 0, 0, 0, 0, 0, 0, 0, 0, 0, 0, 0, 0, 0, 0, 0, 0, 0],\n",
      "        [0, 0, 0, 0, 0, 0, 0, 0, 0, 0, 0, 0, 0, 0, 0, 0, 0, 0, 0, 0, 0],\n",
      "        [0, 0, 0, 0, 0, 0, 0, 0, 0, 0, 0, 0, 0, 0, 0, 0, 0, 0, 0, 0, 0],\n",
      "        [0, 0, 0, 0, 0, 0, 0, 0, 0, 0, 0, 0, 0, 0, 0, 0, 0, 0, 0, 0, 0],\n",
      "        [0, 0, 0, 0, 0, 0, 0, 0, 0, 0, 0, 0, 0, 0, 0, 0, 0, 0, 0, 0, 0],\n",
      "        [0, 0, 0, 0, 0, 0, 0, 0, 0, 0, 0, 0, 0, 0, 0, 0, 0, 0, 0, 0, 0],\n",
      "        [0, 0, 0, 0, 0, 0, 0, 0, 0, 0, 0, 0, 0, 0, 0, 0, 0, 0, 0, 0, 0],\n",
      "        [0, 0, 0, 0, 0, 0, 0, 0, 0, 0, 0, 0, 0, 0, 0, 0, 0, 0, 0, 0, 0],\n",
      "        [0, 0, 0, 0, 0, 0, 0, 0, 0, 0, 0, 0, 0, 0, 0, 0, 0, 0, 0, 0, 0],\n",
      "        [0, 0, 0, 0, 0, 0, 0, 0, 0, 0, 0, 0, 0, 0, 0, 0, 0, 0, 0, 0, 0],\n",
      "        [0, 0, 0, 0, 0, 0, 0, 0, 0, 0, 0, 0, 0, 0, 0, 0, 0, 0, 0, 0, 0],\n",
      "        [0, 0, 0, 0, 0, 0, 0, 0, 0, 0, 0, 0, 0, 0, 0, 0, 0, 0, 0, 0, 0],\n",
      "        [0, 0, 0, 0, 0, 0, 0, 0, 0, 0, 0, 0, 0, 0, 0, 0, 0, 0, 0, 0, 0],\n",
      "        [0, 0, 0, 0, 0, 0, 0, 0, 0, 0, 0, 0, 0, 0, 0, 0, 0, 0, 0, 0, 0],\n",
      "        [0, 0, 0, 0, 0, 0, 0, 0, 0, 0, 0, 0, 0, 0, 0, 0, 0, 0, 0, 0, 0],\n",
      "        [0, 0, 0, 0, 0, 0, 0, 0, 0, 0, 0, 0, 0, 0, 0, 0, 0, 0, 0, 0, 0],\n",
      "        [0, 0, 0, 0, 0, 0, 0, 0, 0, 0, 0, 0, 0, 0, 0, 0, 0, 0, 0, 0, 0],\n",
      "        [0, 0, 0, 0, 0, 0, 0, 0, 0, 0, 0, 0, 0, 0, 0, 0, 0, 0, 0, 0, 0],\n",
      "        [0, 0, 0, 0, 0, 0, 0, 0, 0, 0, 0, 0, 0, 0, 0, 0, 0, 0, 0, 0, 0],\n",
      "        [0, 0, 0, 0, 0, 0, 0, 0, 0, 0, 0, 0, 0, 0, 0, 0, 0, 0, 0, 0, 0]])}\n"
     ]
    }
   ],
   "source": [
    "tr_vl = dm.train_dataloader()\n",
    "for batch in tr_vl:\n",
    "    print(batch)\n",
    "    break"
   ]
  }
 ],
 "metadata": {
  "kernelspec": {
   "display_name": "Python 3",
   "language": "python",
   "name": "python3"
  },
  "language_info": {
   "codemirror_mode": {
    "name": "ipython",
    "version": 3
   },
   "file_extension": ".py",
   "mimetype": "text/x-python",
   "name": "python",
   "nbconvert_exporter": "python",
   "pygments_lexer": "ipython3",
   "version": "3.7.5"
  }
 },
 "nbformat": 4,
 "nbformat_minor": 5
}
