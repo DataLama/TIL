{
 "cells": [
  {
   "cell_type": "markdown",
   "id": "739ce873-0313-4136-a8cd-62bf18350829",
   "metadata": {},
   "source": [
    "- gradient accumulation\n",
    "- learning rate scheduling"
   ]
  },
  {
   "cell_type": "markdown",
   "id": "4b187edb-93a5-4e6a-a564-9a26dd7e3876",
   "metadata": {},
   "source": [
    "### base of optimization\n",
    "- https://pytorch.org/tutorials/beginner/basics/autogradqs_tutorial.html\n",
    "- https://pytorch.org/tutorials/beginner/basics/optimization_tutorial.html"
   ]
  },
  {
   "cell_type": "markdown",
   "id": "3d46ddfc-eeac-4af9-a257-78f974938a28",
   "metadata": {},
   "source": [
    "### lr_scheduler\n",
    "- https://sanghyu.tistory.com/113\n",
    "- https://sanghyu.tistory.com/113"
   ]
  },
  {
   "cell_type": "markdown",
   "id": "71c1a638-dd7d-49fa-a8d3-365393b5e611",
   "metadata": {},
   "source": [
    "### optimizer"
   ]
  },
  {
   "cell_type": "markdown",
   "id": "0b522571-689b-4e28-9f37-279e09c987a3",
   "metadata": {},
   "source": [
    "- adamw https://hiddenbeginner.github.io/deeplearning/paperreview/2019/12/29/paper_review_AdamW.html\n"
   ]
  }
 ],
 "metadata": {
  "kernelspec": {
   "display_name": "Python 3",
   "language": "python",
   "name": "python3"
  },
  "language_info": {
   "codemirror_mode": {
    "name": "ipython",
    "version": 3
   },
   "file_extension": ".py",
   "mimetype": "text/x-python",
   "name": "python",
   "nbconvert_exporter": "python",
   "pygments_lexer": "ipython3",
   "version": "3.7.5"
  }
 },
 "nbformat": 4,
 "nbformat_minor": 5
}
