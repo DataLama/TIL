{
 "cells": [
  {
   "cell_type": "markdown",
   "id": "c8a456b7-4f77-4097-b502-ed1cb0070cda",
   "metadata": {},
   "source": [
    "# Chapter 3 날짜와 시간\n",
    "\n",
    "최근 프로젝트에서 배치를 개발하면서 시스템 시간을 많이 다뤘다. \n",
    "\n",
    "특히, **분석 관점에서 필요한 시간**과 **시스템 관점에서 필요한 시간**의 차이를 고민하면서, 날짜와 시간을 한번 정리해봐야겠다는 필요성을 느꼈다.\n",
    "\n",
    "----"
   ]
  },
  {
   "cell_type": "markdown",
   "id": "9c7f7cd7-e389-404f-a5ee-1bcd68e3185e",
   "metadata": {},
   "source": [
    "## 3.1 타임스탬프 (timestamp)\n",
    "- 타임 스탬프는 컴퓨터가 시간을 표현하기 위해 사용하는 값.\n",
    "- 1970년 1월 1일 0시 0분 0초부터 1초 단위로 증가.\n",
    "    - 그래서 내가 아이폰에서 삭제한 데이터를 복구할 때, 1970년으로 사진의 시간이 기록되었구만..\n",
    "- 소숫점은 1초 미만의 시간 단위를 표현함.\n",
    "    - 하지만, 모든 컴퓨터가 1초보다 작은 시간 단위를 지원하는 것은 아님.\n",
    "- 타임스탬프로 표현할 수 있는 시간은 두 가지\n",
    "    - 단조 시간 (컴퓨터 시간)\n",
    "    - 실제 시간"
   ]
  },
  {
   "cell_type": "code",
   "execution_count": 1,
   "id": "15211583-ffae-4825-bf0e-de12237ec5bb",
   "metadata": {},
   "outputs": [
    {
     "name": "stdout",
     "output_type": "stream",
     "text": [
      "이 글을 쓰는 현재 시간 - 1627908549.109042\n"
     ]
    }
   ],
   "source": [
    "from time import time\n",
    "\n",
    "print(f\"이 글을 쓰는 현재 시간 - {time()}\")"
   ]
  },
  {
   "cell_type": "markdown",
   "id": "f6f3aa63-050d-4d2d-a8bd-4656100fc90d",
   "metadata": {},
   "source": [
    "## 3.2 단조 시간 (monotonic time)\n",
    "- 운영체제 또는 CPU에서 직접 계산하는 시간.\n",
    "    - 재부팅되면 값이 초기화됨.\n",
    "    - 운영체제가 시작한 이후 시점으로 사용자가 바꿀 수 없고, 점진적으로 증가하는 시간\n"
   ]
  },
  {
   "cell_type": "code",
   "execution_count": 13,
   "id": "1457177a-bd30-435d-a776-6888884fbfed",
   "metadata": {},
   "outputs": [
    {
     "name": "stdout",
     "output_type": "stream",
     "text": [
      "t1=966632.066778437\n",
      "t2=966635.084169064\n",
      "diff=3.017390626948327\n"
     ]
    }
   ],
   "source": [
    "from time import monotonic, sleep\n",
    "\n",
    "# t1 시간 기록 (현재)\n",
    "t1 = monotonic()\n",
    "while True:\n",
    "    # t2 시간 기록\n",
    "    t2 = monotonic()\n",
    "    if t2 >= t1 + 3:\n",
    "        break\n",
    "    \n",
    "    sleep(0.1)\n",
    "\n",
    "# 실제 시간과의 차이를 출력함.\n",
    "print(f\"t1={t1}\")\n",
    "print(f\"t2={t2}\")\n",
    "print(f\"diff={(t2-t1)}\")"
   ]
  },
  {
   "cell_type": "markdown",
   "id": "3fa0a1d4-b541-4f23-9719-b6905b51a126",
   "metadata": {},
   "source": [
    "- 단조 시간은 두 작업 사이에 걸린 시간을 측정하거나 일정한 시간 간격마다 수행해야 하는 작업의 시간을 측정할 때, 사용함.\n",
    "    - crontab?"
   ]
  },
  {
   "cell_type": "markdown",
   "id": "9c6c8fda-779f-4346-bab9-34fcb07dc1ef",
   "metadata": {},
   "source": [
    "## 3.3 실제 시간\n",
    "- real time 또는 wall time (벽 시계) 시간으로 부름.\n",
    "- 실제 시간은 컴퓨터가 직접 계산하지만, 주기적으로 시간 서버로부터 값을 가져와서 동기화함. (바뀔 수 있는 시간)\n",
    "    - 시간 간격 또는 일정한 간격을 측정하는데는 적합하지 않음.\n",
    "- 실제 날짜 또는 시간을 기준으로 주기적인 작업을 할 때는 실제 시간을 갖고오자.\n",
    "- 실제 시간을 사용할 때, 주의할 점은 실제 시간이 외부환경에 의해 언제든지 바뀔 수 있음."
   ]
  },
  {
   "cell_type": "markdown",
   "id": "429de811-5fde-4395-8685-2bbf824ea675",
   "metadata": {},
   "source": [
    "## 3.4 타임 존"
   ]
  },
  {
   "cell_type": "markdown",
   "id": "a37d3621-a45f-474e-873e-efac51452578",
   "metadata": {},
   "source": [
    "- UTC는 표준시간, 한국시간 KST=UTC+9\n",
    "- 여러 서버 간의 타임존이 차이가 날 경우, 작업 수행시간이 기대한 시간보다 늦어질 수 있음.\n",
    "    - crontab과 같은 정기성 배치작업을 실행할 경우 문제가 생길 수 있음."
   ]
  },
  {
   "cell_type": "markdown",
   "id": "a2ad2407-fa3a-4fc5-9f87-eb983585013f",
   "metadata": {},
   "source": [
    "> 서버시간은 기본적으로 UTC를 사용하는게 맞고 분석(어플리케이션) 수준에서 실제 데이터를 볼 때는 KST로 변환해서 보는것이 맞음."
   ]
  },
  {
   "cell_type": "markdown",
   "id": "75fa0f20-5a80-41a2-b33c-c9b301ba66ee",
   "metadata": {},
   "source": [
    "---"
   ]
  },
  {
   "cell_type": "markdown",
   "id": "797a2569-6555-457d-9f96-806922124e8a",
   "metadata": {},
   "source": [
    "## 표준날짜 표현형식\n",
    "- 표준날짜 표현형식은 날짜와 시간과 관련된 데이터 교환을 다루는 국제 표준(ISO-8601)임.\n",
    "    -  ISO-8601에 대한 자세한 내용은 여기 있음. (https://ko.wikipedia.org/wiki/ISO_8601) \n",
    "- ISO-8601의 날짜 표현형식은 매우 다양함.\n",
    "    - 파이썬에서는 `dateutil`을 통해 isoformat의 다양한 날짜표현식을 파싱할 수 있음.\n",
    "    - 프로젝트 내 날짜 표준을 정하고 날짜를 사용하는게 문자열 파싱을 하는데 혼선이 없을 듯.\n",
    "- **UTC를 표현하는 경우가 아니면, 실제 시간을 표현하는 타임존을 설정하는 것이 중요함.**"
   ]
  }
 ],
 "metadata": {
  "kernelspec": {
   "display_name": "Python 3",
   "language": "python",
   "name": "python3"
  },
  "language_info": {
   "codemirror_mode": {
    "name": "ipython",
    "version": 3
   },
   "file_extension": ".py",
   "mimetype": "text/x-python",
   "name": "python",
   "nbconvert_exporter": "python",
   "pygments_lexer": "ipython3",
   "version": "3.7.5"
  }
 },
 "nbformat": 4,
 "nbformat_minor": 5
}
